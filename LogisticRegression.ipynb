{
 "cells": [
  {
   "cell_type": "markdown",
   "id": "99fddf88",
   "metadata": {},
   "source": [
    "STEP1"
   ]
  },
  {
   "cell_type": "code",
   "execution_count": 1,
   "id": "548f2b37",
   "metadata": {},
   "outputs": [],
   "source": [
    "import numpy as np\n",
    "import pandas as pd\n",
    "from sklearn.datasets import make_classification\n",
    "from sklearn.linear_model import LogisticRegression\n",
    "from sklearn.model_selection import train_test_split\n",
    "from sklearn.metrics import confusion_matrix\n",
    "import matplotlib.pyplot as plt\n",
    "from sklearn import metrics\n",
    "import seaborn as sns"
   ]
  },
  {
   "cell_type": "markdown",
   "id": "051006e3",
   "metadata": {},
   "source": [
    "STEP2"
   ]
  },
  {
   "cell_type": "code",
   "execution_count": 2,
   "id": "a3f37b2a",
   "metadata": {},
   "outputs": [
    {
     "data": {
      "text/html": [
       "<div>\n",
       "<style scoped>\n",
       "    .dataframe tbody tr th:only-of-type {\n",
       "        vertical-align: middle;\n",
       "    }\n",
       "\n",
       "    .dataframe tbody tr th {\n",
       "        vertical-align: top;\n",
       "    }\n",
       "\n",
       "    .dataframe thead th {\n",
       "        text-align: right;\n",
       "    }\n",
       "</style>\n",
       "<table border=\"1\" class=\"dataframe\">\n",
       "  <thead>\n",
       "    <tr style=\"text-align: right;\">\n",
       "      <th></th>\n",
       "      <th>Pregnancies</th>\n",
       "      <th>Glucose</th>\n",
       "      <th>BloodPressure</th>\n",
       "      <th>SkinThickness</th>\n",
       "      <th>Insulin</th>\n",
       "      <th>BMI</th>\n",
       "      <th>DiabetesPedigreeFunction</th>\n",
       "      <th>Age</th>\n",
       "      <th>Outcome</th>\n",
       "    </tr>\n",
       "  </thead>\n",
       "  <tbody>\n",
       "    <tr>\n",
       "      <th>0</th>\n",
       "      <td>6</td>\n",
       "      <td>148</td>\n",
       "      <td>72</td>\n",
       "      <td>35</td>\n",
       "      <td>0</td>\n",
       "      <td>33.6</td>\n",
       "      <td>0.627</td>\n",
       "      <td>50</td>\n",
       "      <td>1</td>\n",
       "    </tr>\n",
       "    <tr>\n",
       "      <th>1</th>\n",
       "      <td>1</td>\n",
       "      <td>85</td>\n",
       "      <td>66</td>\n",
       "      <td>29</td>\n",
       "      <td>0</td>\n",
       "      <td>26.6</td>\n",
       "      <td>0.351</td>\n",
       "      <td>31</td>\n",
       "      <td>0</td>\n",
       "    </tr>\n",
       "    <tr>\n",
       "      <th>2</th>\n",
       "      <td>8</td>\n",
       "      <td>183</td>\n",
       "      <td>64</td>\n",
       "      <td>0</td>\n",
       "      <td>0</td>\n",
       "      <td>23.3</td>\n",
       "      <td>0.672</td>\n",
       "      <td>32</td>\n",
       "      <td>1</td>\n",
       "    </tr>\n",
       "    <tr>\n",
       "      <th>3</th>\n",
       "      <td>1</td>\n",
       "      <td>89</td>\n",
       "      <td>66</td>\n",
       "      <td>23</td>\n",
       "      <td>94</td>\n",
       "      <td>28.1</td>\n",
       "      <td>0.167</td>\n",
       "      <td>21</td>\n",
       "      <td>0</td>\n",
       "    </tr>\n",
       "    <tr>\n",
       "      <th>4</th>\n",
       "      <td>0</td>\n",
       "      <td>137</td>\n",
       "      <td>40</td>\n",
       "      <td>35</td>\n",
       "      <td>168</td>\n",
       "      <td>43.1</td>\n",
       "      <td>2.288</td>\n",
       "      <td>33</td>\n",
       "      <td>1</td>\n",
       "    </tr>\n",
       "  </tbody>\n",
       "</table>\n",
       "</div>"
      ],
      "text/plain": [
       "   Pregnancies  Glucose  BloodPressure  SkinThickness  Insulin   BMI  \\\n",
       "0            6      148             72             35        0  33.6   \n",
       "1            1       85             66             29        0  26.6   \n",
       "2            8      183             64              0        0  23.3   \n",
       "3            1       89             66             23       94  28.1   \n",
       "4            0      137             40             35      168  43.1   \n",
       "\n",
       "   DiabetesPedigreeFunction  Age  Outcome  \n",
       "0                     0.627   50        1  \n",
       "1                     0.351   31        0  \n",
       "2                     0.672   32        1  \n",
       "3                     0.167   21        0  \n",
       "4                     2.288   33        1  "
      ]
     },
     "execution_count": 2,
     "metadata": {},
     "output_type": "execute_result"
    }
   ],
   "source": [
    "df= pd.read_csv('diabetes (1).csv')\n",
    "df.head(5)"
   ]
  },
  {
   "cell_type": "code",
   "execution_count": 3,
   "id": "f7a3a1f8",
   "metadata": {
    "scrolled": false
   },
   "outputs": [
    {
     "data": {
      "text/plain": [
       "<matplotlib.collections.PathCollection at 0x209a6dd5e20>"
      ]
     },
     "execution_count": 3,
     "metadata": {},
     "output_type": "execute_result"
    },
    {
     "data": {
      "image/png": "[encoded data removed]",
      "text/plain": [
       "<Figure size 432x288 with 1 Axes>"
      ]
     },
     "metadata": {
      "needs_background": "light"
     },
     "output_type": "display_data"
    }
   ],
   "source": [
    "plt.scatter(df.Age,df.Outcome,marker='.',color='red')"
   ]
  },
  {
   "cell_type": "code",
   "execution_count": 4,
   "id": "8ec2ce3d",
   "metadata": {},
   "outputs": [],
   "source": [
    "#there is no individual above 72 who has diabetes;\n",
    "#the standard deviation of bmi is much larger for clients who have diabetes;\n",
    "#age has a considerable positive skewness, especially...................\n",
    "#But how can we predict whether a client died, given his age? We'll do just that by fitting a logistic curve."
   ]
  },
  {
   "cell_type": "code",
   "execution_count": 5,
   "id": "8870d284",
   "metadata": {
    "scrolled": true
   },
   "outputs": [
    {
     "data": {
      "text/plain": [
       "<AxesSubplot: xlabel='BMI', ylabel='Outcome'>"
      ]
     },
     "execution_count": 5,
     "metadata": {},
     "output_type": "execute_result"
    },
    {
     "data": {
      "image/png": "[encoded data removed]",
      "text/plain": [
       "<Figure size 432x288 with 1 Axes>"
      ]
     },
     "metadata": {
      "needs_background": "light"
     },
     "output_type": "display_data"
    }
   ],
   "source": [
    "x = df['BMI']\n",
    "y = df['Outcome']\n",
    "#plot logistic regression curve\n",
    "sns.regplot(x=x, y=y, data=df, logistic=True, ci=None,scatter_kws={'color': 'black'}, line_kws={'color': 'red'})"
   ]
  },
  {
   "cell_type": "code",
   "execution_count": 6,
   "id": "ca080770",
   "metadata": {},
   "outputs": [
    {
     "data": {
      "text/plain": [
       "<AxesSubplot: xlabel='Glucose', ylabel='Outcome'>"
      ]
     },
     "execution_count": 6,
     "metadata": {},
     "output_type": "execute_result"
    },
    {
     "data": {
      "image/png": "[encoded data removed]",
      "text/plain": [
       "<Figure size 432x288 with 1 Axes>"
      ]
     },
     "metadata": {
      "needs_background": "light"
     },
     "output_type": "display_data"
    }
   ],
   "source": [
    "x = df['Glucose']\n",
    "y = df['Outcome']\n",
    "#plot logistic regression curve\n",
    "sns.regplot(x=x, y=y, data=df, logistic=True, ci=None,scatter_kws={'color': 'black'}, line_kws={'color': 'green'})"
   ]
  },
  {
   "cell_type": "markdown",
   "id": "41e290e4",
   "metadata": {},
   "source": [
    "STEP3"
   ]
  },
  {
   "cell_type": "code",
   "execution_count": 7,
   "id": "6a8e3fba",
   "metadata": {},
   "outputs": [],
   "source": [
    "X_train,X_test,y_train,y_test = train_test_split(df[['BMI']],df.Outcome,test_size=0.1)"
   ]
  },
  {
   "cell_type": "code",
   "execution_count": 18,
   "id": "5f2b4149",
   "metadata": {},
   "outputs": [
    {
     "data": {
      "text/html": [
       "<div>\n",
       "<style scoped>\n",
       "    .dataframe tbody tr th:only-of-type {\n",
       "        vertical-align: middle;\n",
       "    }\n",
       "\n",
       "    .dataframe tbody tr th {\n",
       "        vertical-align: top;\n",
       "    }\n",
       "\n",
       "    .dataframe thead th {\n",
       "        text-align: right;\n",
       "    }\n",
       "</style>\n",
       "<table border=\"1\" class=\"dataframe\">\n",
       "  <thead>\n",
       "    <tr style=\"text-align: right;\">\n",
       "      <th></th>\n",
       "      <th>BMI</th>\n",
       "    </tr>\n",
       "  </thead>\n",
       "  <tbody>\n",
       "    <tr>\n",
       "      <th>613</th>\n",
       "      <td>32.5</td>\n",
       "    </tr>\n",
       "    <tr>\n",
       "      <th>213</th>\n",
       "      <td>42.6</td>\n",
       "    </tr>\n",
       "    <tr>\n",
       "      <th>36</th>\n",
       "      <td>33.2</td>\n",
       "    </tr>\n",
       "    <tr>\n",
       "      <th>270</th>\n",
       "      <td>45.6</td>\n",
       "    </tr>\n",
       "    <tr>\n",
       "      <th>242</th>\n",
       "      <td>25.6</td>\n",
       "    </tr>\n",
       "  </tbody>\n",
       "</table>\n",
       "</div>"
      ],
      "text/plain": [
       "      BMI\n",
       "613  32.5\n",
       "213  42.6\n",
       "36   33.2\n",
       "270  45.6\n",
       "242  25.6"
      ]
     },
     "execution_count": 18,
     "metadata": {},
     "output_type": "execute_result"
    }
   ],
   "source": [
    "X_train.head(5)"
   ]
  },
  {
   "cell_type": "code",
   "execution_count": 9,
   "id": "e6c1c7a8",
   "metadata": {},
   "outputs": [
    {
     "name": "stdout",
     "output_type": "stream",
     "text": [
      "(691, 1)\n",
      "(77, 1)\n",
      "(691,)\n",
      "(77,)\n"
     ]
    }
   ],
   "source": [
    "print(X_train.shape)\n",
    "print(X_test.shape)\n",
    "print(y_train.shape)\n",
    "print(y_test.shape)"
   ]
  },
  {
   "cell_type": "code",
   "execution_count": 10,
   "id": "677c6ff9",
   "metadata": {},
   "outputs": [
    {
     "name": "stdout",
     "output_type": "stream",
     "text": [
      "β0 , β1 and β2 are [-3.72206585] and [[0.09382918]]\n"
     ]
    }
   ],
   "source": [
    "logreg_model = LogisticRegression()\n",
    "logreg_model.fit(X_train, y_train)\n",
    "print(f'\\u03B20 , \\u03B21 and \\u03B22 are {logreg_model.intercept_} and {logreg_model.coef_}')"
   ]
  },
  {
   "cell_type": "code",
   "execution_count": 11,
   "id": "b17748b1",
   "metadata": {},
   "outputs": [],
   "source": [
    "from sklearn.metrics import confusion_matrix"
   ]
  },
  {
   "cell_type": "code",
   "execution_count": 12,
   "id": "47322e05",
   "metadata": {},
   "outputs": [
    {
     "data": {
      "text/plain": [
       "array([0, 1, 1, 0, 0, 1, 0, 0, 0, 0, 0, 0, 0, 0, 0, 0, 0, 0, 0, 0, 1, 0,\n",
       "       0, 0, 0, 0, 0, 0, 1, 1, 0, 0, 0, 0, 0, 0, 0, 1, 0, 0, 0, 0, 1, 0,\n",
       "       0, 1, 0, 0, 0, 0, 0, 0, 0, 0, 0, 1, 0, 1, 0, 0, 0, 0, 0, 0, 0, 0,\n",
       "       0, 0, 0, 0, 0, 0, 0, 0, 0, 0, 0], dtype=int64)"
      ]
     },
     "execution_count": 12,
     "metadata": {},
     "output_type": "execute_result"
    }
   ],
   "source": [
    "predictions = logreg_model.predict(X_test)\n",
    "predictions\n"
   ]
  },
  {
   "cell_type": "code",
   "execution_count": 13,
   "id": "8d6c1971",
   "metadata": {},
   "outputs": [
    {
     "data": {
      "text/plain": [
       "0.6363636363636364"
      ]
     },
     "execution_count": 13,
     "metadata": {},
     "output_type": "execute_result"
    }
   ],
   "source": [
    "logreg_model.score(X_test,y_test)"
   ]
  },
  {
   "cell_type": "code",
   "execution_count": 14,
   "id": "8c27b966",
   "metadata": {},
   "outputs": [
    {
     "data": {
      "text/plain": [
       "array([[0.81308256, 0.18691744],\n",
       "       [0.1357101 , 0.8642899 ],\n",
       "       [0.41335322, 0.58664678],\n",
       "       [0.50864394, 0.49135606],\n",
       "       [0.50629874, 0.49370126],\n",
       "       [0.35141114, 0.64858886],\n",
       "       [0.57378256, 0.42621744],\n",
       "       [0.65364178, 0.34635822],\n",
       "       [0.67456715, 0.32543285],\n",
       "       [0.83223162, 0.16776838],\n",
       "       [0.71242492, 0.28757508],\n",
       "       [0.72755521, 0.27244479],\n",
       "       [0.76650455, 0.23349545],\n",
       "       [0.70271831, 0.29728169],\n",
       "       [0.53672728, 0.46327272],\n",
       "       [0.63645777, 0.36354223],\n",
       "       [0.65576295, 0.34423705],\n",
       "       [0.64509656, 0.35490344],\n",
       "       [0.52036218, 0.47963782],\n",
       "       [0.71815726, 0.28184274],\n",
       "       [0.47114522, 0.52885478],\n",
       "       [0.69680453, 0.30319547],\n",
       "       [0.9763871 , 0.0236129 ],\n",
       "       [0.78446695, 0.21553305],\n",
       "       [0.85216119, 0.14783881],\n",
       "       [0.72194   , 0.27806   ],\n",
       "       [0.62333434, 0.37666566],\n",
       "       [0.68881723, 0.31118277],\n",
       "       [0.47816421, 0.52183579],\n",
       "       [0.23411849, 0.76588151],\n",
       "       [0.75972025, 0.24027975],\n",
       "       [0.70467471, 0.29532529],\n",
       "       [0.77479592, 0.22520408],\n",
       "       [0.84120307, 0.15879693],\n",
       "       [0.62992005, 0.37007995],\n",
       "       [0.63645777, 0.36354223],\n",
       "       [0.9763871 , 0.0236129 ],\n",
       "       [0.49691619, 0.50308381],\n",
       "       [0.70467471, 0.29532529],\n",
       "       [0.59655471, 0.40344529],\n",
       "       [0.7968875 , 0.2031125 ],\n",
       "       [0.50629874, 0.49370126],\n",
       "       [0.40881017, 0.59118983],\n",
       "       [0.7764289 , 0.2235711 ],\n",
       "       [0.75454433, 0.24545567],\n",
       "       [0.36001237, 0.63998763],\n",
       "       [0.74217753, 0.25782247],\n",
       "       [0.59429442, 0.40570558],\n",
       "       [0.74217753, 0.25782247],\n",
       "       [0.52972128, 0.47027872],\n",
       "       [0.8335376 , 0.1664624 ],\n",
       "       [0.72569137, 0.27430863],\n",
       "       [0.7492937 , 0.2507063 ],\n",
       "       [0.64509656, 0.35490344],\n",
       "       [0.62773004, 0.37226996],\n",
       "       [0.28064908, 0.71935092],\n",
       "       [0.56457956, 0.43542044],\n",
       "       [0.4110798 , 0.5889202 ],\n",
       "       [0.55764762, 0.44235238],\n",
       "       [0.62333434, 0.37666566],\n",
       "       [0.82286005, 0.17713995],\n",
       "       [0.75280239, 0.24719761],\n",
       "       [0.8509752 , 0.1490248 ],\n",
       "       [0.60779301, 0.39220699],\n",
       "       [0.68071593, 0.31928407],\n",
       "       [0.80437533, 0.19562467],\n",
       "       [0.71815726, 0.28184274],\n",
       "       [0.61891824, 0.38108176],\n",
       "       [0.87324151, 0.12675849],\n",
       "       [0.60555406, 0.39444594],\n",
       "       [0.56227158, 0.43772842],\n",
       "       [0.69878317, 0.30121683],\n",
       "       [0.75280239, 0.24719761],\n",
       "       [0.51098876, 0.48901124],\n",
       "       [0.7731545 , 0.2268455 ],\n",
       "       [0.68071593, 0.31928407],\n",
       "       [0.78287626, 0.21712374]])"
      ]
     },
     "execution_count": 14,
     "metadata": {},
     "output_type": "execute_result"
    }
   ],
   "source": [
    "logreg_model.predict_proba(X_test)"
   ]
  },
  {
   "cell_type": "markdown",
   "id": "f7e1ce82",
   "metadata": {},
   "source": [
    "STEP4"
   ]
  },
  {
   "cell_type": "code",
   "execution_count": 15,
   "id": "bcb7373d",
   "metadata": {},
   "outputs": [
    {
     "data": {
      "text/plain": [
       "array([[42,  4],\n",
       "       [24,  7]], dtype=int64)"
      ]
     },
     "execution_count": 15,
     "metadata": {},
     "output_type": "execute_result"
    }
   ],
   "source": [
    "cm= confusion_matrix(y_test,predictions) \n",
    "cm "
   ]
  },
  {
   "cell_type": "code",
   "execution_count": 16,
   "id": "078c6815",
   "metadata": {},
   "outputs": [
    {
     "data": {
      "image/png": "[encoded data removed]",
      "text/plain": [
       "<Figure size 288x144 with 2 Axes>"
      ]
     },
     "metadata": {
      "needs_background": "light"
     },
     "output_type": "display_data"
    }
   ],
   "source": [
    "cm=confusion_matrix(y_test,predictions)\n",
    "plt.figure(figsize=(4,2))\n",
    "plt.title(\"Confusion Matrix\")\n",
    "sns.heatmap(cm, annot=True,fmt='d', cmap='Blues')\n",
    "plt.ylabel(\"Actual Values\")\n",
    "plt.xlabel(\"Predicted Values\")\n",
    "plt.savefig('confusion_matrix.png')"
   ]
  },
  {
   "cell_type": "code",
   "execution_count": 17,
   "id": "a2ab085a",
   "metadata": {},
   "outputs": [],
   "source": [
    "#accuracy=49/77 = 0.64"
   ]
  }
 ],
 "metadata": {
  "kernelspec": {
   "display_name": "Python 3 (ipykernel)",
   "language": "python",
   "name": "python3"
  },
  "language_info": {
   "codemirror_mode": {
    "name": "ipython",
    "version": 3
   },
   "file_extension": ".py",
   "mimetype": "text/x-python",
   "name": "python",
   "nbconvert_exporter": "python",
   "pygments_lexer": "ipython3",
   "version": "3.8.12"
  }
 },
 "nbformat": 4,
 "nbformat_minor": 5
}
